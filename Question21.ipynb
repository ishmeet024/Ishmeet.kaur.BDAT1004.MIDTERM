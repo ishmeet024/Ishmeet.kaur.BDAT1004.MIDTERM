{
 "cells": [
  {
   "cell_type": "markdown",
   "id": "53e3f6a5-05ea-4328-9422-67178720f6e8",
   "metadata": {},
   "source": [
    "Question 21:\n",
    "\n",
    "__int()__: Constructor that takes as input a pair of Point objects that represent the ends points of the line segment\n",
    "\n",
    "Length():: returns the length if the segment \n",
    "\n",
    "Slope() returns the slope of the segment of none if the slope is unbounded \n",
    "\n",
    "p1 = Point(3,4)\n",
    "\n",
    "p2 = Point()\n",
    "\n",
    "s = Segment(p1,p2)\n",
    "\n",
    "s.length()\n",
    "\n",
    "5.0\n",
    "s.slope()\n",
    "0.75"
   ]
  },
  {
   "cell_type": "code",
   "execution_count": 10,
   "id": "175c9168-e563-47ed-9caa-1565499f12d9",
   "metadata": {},
   "outputs": [],
   "source": [
    "import math \n",
    "\n",
    "class Point:\n",
    "    def __init__(self, x=0, y=0):   # Initialiaze the point object with x & y coordinates \n",
    "        self.x = x                  #default values are (0, 0) as it is not specified\n",
    "        self.y = y \n",
    "class Segment:                         #here initialize segment \n",
    "    def __init__(self, p1, p2):        #taking two different points and parameterize the constructor \n",
    "        self.p1 = p1\n",
    "        self.p2 = p2\n",
    "    def length(self):                    # calculating the length\n",
    "      x_coordinates = self.p2.x - self.p1.x              # calculating the difference between two segments \n",
    "      y_coordinates = self.p2.y - self.p1.y\n",
    "      distance = math.sqrt(x_coordinates**2 + y_coordinates**2)   #applying pythagoreas theorem \n",
    "\n",
    "      return distance \n",
    "    def slope(self):                         #calculating slope here\n",
    "        try:\n",
    "            return (self.p2.x - self.p1.x)/(self.p2.y - self.p1.y)\n",
    "        except ZeroDivisionError:\n",
    "            return None "
   ]
  },
  {
   "cell_type": "code",
   "execution_count": 11,
   "id": "9e18cd51-5317-4398-8c3c-5c9f7a65ba38",
   "metadata": {},
   "outputs": [],
   "source": [
    "#executing two test cases\n",
    "p1 = Point(3, 4)\n",
    "p2 = Point()\n",
    "s = Segment(p1, p2)"
   ]
  },
  {
   "cell_type": "code",
   "execution_count": 12,
   "id": "d5b7b739-a3aa-45f2-b023-cb07a7ad2587",
   "metadata": {},
   "outputs": [
    {
     "name": "stdout",
     "output_type": "stream",
     "text": [
      "5.0\n"
     ]
    }
   ],
   "source": [
    "print (s.length()) # printing expected output of length as given in question"
   ]
  },
  {
   "cell_type": "code",
   "execution_count": 13,
   "id": "0f0dca0c-778c-41e7-a8a9-250aac4daa17",
   "metadata": {},
   "outputs": [
    {
     "name": "stdout",
     "output_type": "stream",
     "text": [
      "0.75\n"
     ]
    }
   ],
   "source": [
    "print (s.slope())  # printing expected output of slope as given in question "
   ]
  },
  {
   "cell_type": "code",
   "execution_count": null,
   "id": "16bd570e-3164-4669-967f-6408b090234a",
   "metadata": {},
   "outputs": [],
   "source": []
  }
 ],
 "metadata": {
  "kernelspec": {
   "display_name": "Python 3 (ipykernel)",
   "language": "python",
   "name": "python3"
  },
  "language_info": {
   "codemirror_mode": {
    "name": "ipython",
    "version": 3
   },
   "file_extension": ".py",
   "mimetype": "text/x-python",
   "name": "python",
   "nbconvert_exporter": "python",
   "pygments_lexer": "ipython3",
   "version": "3.11.7"
  }
 },
 "nbformat": 4,
 "nbformat_minor": 5
}
