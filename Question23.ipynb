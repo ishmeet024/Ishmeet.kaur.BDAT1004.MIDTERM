{
 "cells": [
  {
   "cell_type": "markdown",
   "id": "80981e4a-27b0-4d0f-b47a-6227aea243d0",
   "metadata": {},
   "source": [
    "Question 23:\n",
    "\n",
    "In a jupyter notebook solve the following question using python. Please upload the notebook to GitHub and provide the link submission box below.\n",
    "Develop a recursive function tough() that takes two nonnegative integer arguments and outputs a pattern as shown below. Hint: The first argument represents the indentation of the pattern, where the second argument -- always a pattern of 2 indicates the number *s in the longest line of *s in the pattern"
   ]
  },
  {
   "cell_type": "code",
   "execution_count": 1,
   "id": "7cff34a5-8899-4f84-b90b-8e4581ad9838",
   "metadata": {},
   "outputs": [],
   "source": [
    "def tough(indentation, number):\n",
    "    \n",
    "    # Base case: If number is zero, do nothing and return\n",
    "    if(number > 0):\n",
    "        \n",
    "        # Recursively call the function with half the number (for the upper part)\n",
    "        tough(indentation, number//2);\n",
    "        \n",
    "        # Print the pattern: spaces for indentation and asterisks for the number\n",
    "        print(\" \" * indentation + \"*\" * number);\n",
    "        \n",
    "        # Recursively call the function again with incremented indentation \n",
    "        # (for the lower part, which is indented by one more space)\n",
    "        tough(indentation + 1, number//2);"
   ]
  },
  {
   "cell_type": "code",
   "execution_count": 2,
   "id": "7bd33f31-4d0a-453d-b24f-8de7b0e954ea",
   "metadata": {},
   "outputs": [],
   "source": [
    "tough(0, 0)"
   ]
  },
  {
   "cell_type": "code",
   "execution_count": 3,
   "id": "4121439b-ee12-4422-9fd7-2264431f8d8c",
   "metadata": {},
   "outputs": [
    {
     "name": "stdout",
     "output_type": "stream",
     "text": [
      "*\n"
     ]
    }
   ],
   "source": [
    "tough(0, 1)"
   ]
  },
  {
   "cell_type": "code",
   "execution_count": 4,
   "id": "1e3ec209-e3c7-4fd0-b956-a136bda82fe7",
   "metadata": {},
   "outputs": [
    {
     "name": "stdout",
     "output_type": "stream",
     "text": [
      "*\n",
      "**\n",
      " *\n"
     ]
    }
   ],
   "source": [
    "tough(0, 2)"
   ]
  },
  {
   "cell_type": "code",
   "execution_count": null,
   "id": "85c02999-11ea-4725-8a15-64f2e6c51b18",
   "metadata": {},
   "outputs": [],
   "source": []
  }
 ],
 "metadata": {
  "kernelspec": {
   "display_name": "Python 3 (ipykernel)",
   "language": "python",
   "name": "python3"
  },
  "language_info": {
   "codemirror_mode": {
    "name": "ipython",
    "version": 3
   },
   "file_extension": ".py",
   "mimetype": "text/x-python",
   "name": "python",
   "nbconvert_exporter": "python",
   "pygments_lexer": "ipython3",
   "version": "3.11.7"
  }
 },
 "nbformat": 4,
 "nbformat_minor": 5
}
