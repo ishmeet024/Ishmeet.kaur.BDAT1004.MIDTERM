{
 "cells": [
  {
   "cell_type": "markdown",
   "id": "18b70d2b-8291-48fc-b47b-62cc2f134c2d",
   "metadata": {},
   "source": [
    "Question 22:\n",
    "In a jupyter notebook solve the following question using both python and SQL. Please upload the notebook to GitHub and provide the link submission box below."
   ]
  },
  {
   "cell_type": "markdown",
   "id": "27284677-1b79-4075-855b-bbba67606931",
   "metadata": {},
   "source": [
    "|---------------|---------|\n",
    "| Column Name   | Type    |\n",
    "|---------------|---------|\n",
    "| id            | int     |\n",
    "| recordDate    | date    |\n",
    "| temperature   | int     |\n",
    "|---------------|---------|"
   ]
  },
  {
   "cell_type": "markdown",
   "id": "c3d00105-9645-4193-b1ef-9a3bda3d2b7e",
   "metadata": {},
   "source": [
    "\n",
    "id is the column with unique values for this table.\n",
    "This table contains information about the temperature on a certain day.\n",
    "\n",
    "Write a solution to find all dates' Id with higher temperatures compared to its previous dates (yesterday).\n",
    "Return the result table in any order.\n",
    "Please use the following input Weather table for your solution. To receive full marks you will need to create the database, create the table, insert the data below and execute the SQL query.\n",
    "\n",
    "\n",
    "Input: \n",
    "Weather table:\n"
   ]
  },
  {
   "cell_type": "markdown",
   "id": "614f32ba-3fe5-4ce8-8413-fc50e2bb0ca8",
   "metadata": {},
   "source": [
    "| id | recordDate | temperature |\n",
    "|----|------------|-------------|\n",
    "| 1  | 2015-01-01 | 10          |\n",
    "| 2  | 2015-01-02 | 25          |\n",
    "| 3  | 2015-01-03 | 20          |\n",
    "| 4  | 2015-01-04 | 30          |\n",
    "|----|------------|-------------|\n"
   ]
  },
  {
   "cell_type": "markdown",
   "id": "38b111da-8f1c-4f10-b121-d00ba9407389",
   "metadata": {},
   "source": [
    "Output:\n",
    "| id |\n",
    "|----|\n",
    "| 2  |\n",
    "| 4  |\n",
    "|----|"
   ]
  },
  {
   "cell_type": "markdown",
   "id": "8f7ad235-e2b7-40df-b797-77cf328af523",
   "metadata": {},
   "source": [
    "\n",
    "Explanation: \n",
    "In 2015-01-02, the temperature was higher than the previous day (10 -> 25).\n",
    "In 2015-01-04, the temperature was higher than the previous day (20 -> 30)"
   ]
  },
  {
   "cell_type": "code",
   "execution_count": 3,
   "id": "8cd341d2-6f5c-4577-820a-59aaaaee3aa4",
   "metadata": {},
   "outputs": [],
   "source": [
    "import sqlite3\n",
    "\n",
    "# Creating the database \n",
    "conn = sqlite3.connect('weather_data.db')\n",
    "cur = conn.cursor()"
   ]
  },
  {
   "cell_type": "code",
   "execution_count": 9,
   "id": "468e7764-844f-432d-af14-eb34a78a8f3c",
   "metadata": {},
   "outputs": [
    {
     "data": {
      "text/plain": [
       "<sqlite3.Cursor at 0x176b609f8c0>"
      ]
     },
     "execution_count": 9,
     "metadata": {},
     "output_type": "execute_result"
    }
   ],
   "source": [
    "# Deleting if the table already exists\n",
    "cur.execute('''DROP TABLE IF EXISTS Weather''')\n",
    "\n",
    "# Creating the table\n",
    "cur.execute('''\n",
    "    CREATE TABLE Weather (\n",
    "        id INTEGER PRIMARY KEY,\n",
    "        recordDate DATE,\n",
    "        temperature INTEGER)\n",
    "        ''')"
   ]
  },
  {
   "cell_type": "code",
   "execution_count": 6,
   "id": "c354e615-dd40-4593-9215-325c42f9866e",
   "metadata": {},
   "outputs": [],
   "source": [
    "given_data = [\n",
    "    (1, '2015-01-01', 10),\n",
    "    (2, '2015-01-02', 25),\n",
    "    (3, '2015-01-03', 20),\n",
    "    (4, '2015-01-04', 30)\n",
    "]\n",
    "\n",
    "# Inserting the data into the table\n",
    "cur.executemany('INSERT INTO Weather (id, recordDate, temperature) VALUES (?, ?, ?)', given_data)\n",
    "conn.commit()"
   ]
  },
  {
   "cell_type": "code",
   "execution_count": 7,
   "id": "96b0657f-1132-4023-9c8e-501efbdbd759",
   "metadata": {},
   "outputs": [
    {
     "name": "stdout",
     "output_type": "stream",
     "text": [
      "id\n",
      "2\n",
      "4\n"
     ]
    }
   ],
   "source": [
    "# Defining the SQL query to solve the problem\n",
    "query = '''\n",
    "        SELECT w1.id\n",
    "        FROM Weather w1\n",
    "        JOIN Weather w2 ON DATE(w1.recordDate) = DATE(w2.recordDate, '+1 day')\n",
    "        WHERE w1.temperature > w2.temperature\n",
    "        '''\n",
    "\n",
    "cur.execute(query)\n",
    "\n",
    "# Printing the SQL Query results\n",
    "rows = cur.fetchall()\n",
    "print(\"id\")\n",
    "for row in rows:\n",
    "    print(row[0])\n",
    "    \n",
    "# Closing the database connection\n",
    "conn.close()"
   ]
  },
  {
   "cell_type": "code",
   "execution_count": null,
   "id": "15d6f241-b8b0-49c1-9ac6-a8d17a8ac4cb",
   "metadata": {},
   "outputs": [],
   "source": []
  }
 ],
 "metadata": {
  "kernelspec": {
   "display_name": "Python 3 (ipykernel)",
   "language": "python",
   "name": "python3"
  },
  "language_info": {
   "codemirror_mode": {
    "name": "ipython",
    "version": 3
   },
   "file_extension": ".py",
   "mimetype": "text/x-python",
   "name": "python",
   "nbconvert_exporter": "python",
   "pygments_lexer": "ipython3",
   "version": "3.11.7"
  }
 },
 "nbformat": 4,
 "nbformat_minor": 5
}
